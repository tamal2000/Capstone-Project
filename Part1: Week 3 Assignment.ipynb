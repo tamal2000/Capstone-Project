{
  "nbformat": 4,
  "nbformat_minor": 0,
  "metadata": {
    "colab": {
      "name": "Neighborhoods in Toronto.ipynb",
      "provenance": []
    },
    "kernelspec": {
      "name": "python3",
      "display_name": "Python 3"
    }
  },
  "cells": [
    {
      "cell_type": "markdown",
      "metadata": {
        "id": "IyhLTQFrsWm9",
        "colab_type": "text"
      },
      "source": [
        "#Neighborhoods of Toronto\n",
        "###Part 1: Importing data Wikipedia <br>Applied Data Science Capstone(Week 3 Project)\n",
        "<p>Objective this part of the assignment is to scrap data from given wikipedia page to analyze <B>Neighborhoods of Toronto</B>\n",
        "\n",
        "####Beutiful soup librery is used below to scrap data from wikipedia page.\n",
        "\n"
      ]
    },
    {
      "cell_type": "code",
      "metadata": {
        "id": "eBQbTO8iRlkB",
        "colab_type": "code",
        "colab": {}
      },
      "source": [
        "#import related libraries\n",
        "import numpy as np # library to handle data in a vectorized manner\n",
        "\n",
        "import pandas as pd # library for data analsysis\n",
        "pd.set_option('display.max_columns', None)\n",
        "pd.set_option('display.max_rows', None)\n",
        "\n",
        "import json # library to handle JSON files\n",
        "from pandas.io.json import json_normalize # tranform JSON file into a pandas dataframe\n",
        "import requests\n",
        "\n",
        "# Matplotlib and associated plotting modules\n",
        "import matplotlib.cm as cm\n",
        "import matplotlib.colors as colors\n",
        "\n",
        "import folium # map rendering library\n",
        "\n",
        "# import k-means from clustering stage\n",
        "from sklearn.cluster import KMeans\n",
        "\n",
        "# import breautiful soup to scrap data from websites \n",
        "from bs4 import BeautifulSoup"
      ],
      "execution_count": 0,
      "outputs": []
    },
    {
      "cell_type": "markdown",
      "metadata": {
        "id": "WUeGnd7dvnHS",
        "colab_type": "text"
      },
      "source": [
        "##Fetch the wikipedia page and parsed using Beautiful Soup to scrap data"
      ]
    },
    {
      "cell_type": "code",
      "metadata": {
        "id": "9RrywIP3TElK",
        "colab_type": "code",
        "colab": {}
      },
      "source": [
        "#Below codes are used to fetch the data from wikipedia by using Request method\n",
        "URL = \"https://en.wikipedia.org/wiki/List_of_postal_codes_of_Canada:_M\"\n",
        "res = requests.get(URL).text\n",
        "# parse the link using Beautiful soup to get stracture dat \n",
        "soup = BeautifulSoup(res,'lxml')\n"
      ],
      "execution_count": 0,
      "outputs": []
    },
    {
      "cell_type": "markdown",
      "metadata": {
        "id": "tvIxzBSVwEtv",
        "colab_type": "text"
      },
      "source": [
        "##Preparing a two dimentional list to collect only required data"
      ]
    },
    {
      "cell_type": "code",
      "metadata": {
        "id": "mmGPbTAD15Sy",
        "colab_type": "code",
        "colab": {}
      },
      "source": [
        "#Initiating Location List. This list will be used to gater all the respecive data\n",
        "location_list = [['PostCode', 'Borough', 'Neighborhood']]\n",
        "\n",
        "#A temp file is created to keep all unique PostCodes\n",
        "postcode_temp = []\n",
        "\n",
        "#PostCode dedup function is created to identify the index of existing Postcode in the location list. \n",
        "def postcode_dedup(data, search):\n",
        "    for i, e in enumerate(data):\n",
        "        try:\n",
        "            return i, e.index(search)\n",
        "        except ValueError: pass\n",
        "\n",
        "#Below \"for loop\" is used to travers through the table data  \n",
        "for items in soup.find('table', class_='wikitable').find_all('tr')[1::1]:\n",
        "    data = items.find_all(['th','td'])\n",
        "    try:\n",
        "        #get post postcode, Borough and Neighbourhood from the soup file \n",
        "        Postcode = data[0].text.strip()\n",
        "        Borough = data[1].text.strip()\n",
        "        Neighbourhood = data[2].text.strip()\n",
        "    except IndexError:pass\n",
        "    \n",
        "    #If Post code was found for the first time we will procceed appending the list with Postcode, Borough and Neighbourhood data\n",
        "    if Postcode not in postcode_temp: \n",
        "      postcode_temp.append(Postcode) #appending ptcode data to the temporary postcode list\n",
        "\n",
        "      #check if Brough has legitimate values, otherwise skip the entry\n",
        "      if Borough != \"Not assigned\":\n",
        "        \n",
        "        #if Neighbourhood data is missing we will replace the missing data wil the Borough data \n",
        "        if Neighbourhood == \"Not assigned\":\n",
        "          Neighbourhood = Borough\n",
        "        location_list.append([Postcode, Borough, Neighbourhood])\n",
        "    else:\n",
        "      #finding the index to post code if its already exists and updating adding neighbourhood data with the existing neighbourhood data of that postcode\n",
        "       key = postcode_dedup(location_list, Postcode)\n",
        "       location_list[key[0]][2] = location_list[key[0]][2] + ', ' + Neighbourhood\n"
      ],
      "execution_count": 0,
      "outputs": []
    },
    {
      "cell_type": "markdown",
      "metadata": {
        "id": "zQ7fjTdfwXHq",
        "colab_type": "text"
      },
      "source": [
        "##Transforming List to Pandas Dataframe"
      ]
    },
    {
      "cell_type": "code",
      "metadata": {
        "id": "oByySApHDgcr",
        "colab_type": "code",
        "outputId": "2584fd7a-7182-470d-e49a-2d29af6a68ab",
        "colab": {
          "base_uri": "https://localhost:8080/",
          "height": 359
        }
      },
      "source": [
        "#importing and prparing Pandas dataset\n",
        "df = pd.DataFrame(location_list, columns =['Postcode', 'Borough', 'Neighbourhood']) \n",
        "df = df[1:]\n",
        "\n",
        "pd.set_option('display.max_colwidth', -1)\n",
        "df.head(10)"
      ],
      "execution_count": 30,
      "outputs": [
        {
          "output_type": "execute_result",
          "data": {
            "text/html": [
              "<div>\n",
              "<style scoped>\n",
              "    .dataframe tbody tr th:only-of-type {\n",
              "        vertical-align: middle;\n",
              "    }\n",
              "\n",
              "    .dataframe tbody tr th {\n",
              "        vertical-align: top;\n",
              "    }\n",
              "\n",
              "    .dataframe thead th {\n",
              "        text-align: right;\n",
              "    }\n",
              "</style>\n",
              "<table border=\"1\" class=\"dataframe\">\n",
              "  <thead>\n",
              "    <tr style=\"text-align: right;\">\n",
              "      <th></th>\n",
              "      <th>Postcode</th>\n",
              "      <th>Borough</th>\n",
              "      <th>Neighbourhood</th>\n",
              "    </tr>\n",
              "  </thead>\n",
              "  <tbody>\n",
              "    <tr>\n",
              "      <th>1</th>\n",
              "      <td>M3A</td>\n",
              "      <td>North York</td>\n",
              "      <td>Parkwoods</td>\n",
              "    </tr>\n",
              "    <tr>\n",
              "      <th>2</th>\n",
              "      <td>M4A</td>\n",
              "      <td>North York</td>\n",
              "      <td>Victoria Village</td>\n",
              "    </tr>\n",
              "    <tr>\n",
              "      <th>3</th>\n",
              "      <td>M5A</td>\n",
              "      <td>Downtown Toronto</td>\n",
              "      <td>Harbourfront, Regent Park</td>\n",
              "    </tr>\n",
              "    <tr>\n",
              "      <th>4</th>\n",
              "      <td>M6A</td>\n",
              "      <td>North York</td>\n",
              "      <td>Lawrence Heights, Lawrence Manor</td>\n",
              "    </tr>\n",
              "    <tr>\n",
              "      <th>5</th>\n",
              "      <td>M7A</td>\n",
              "      <td>Queen's Park</td>\n",
              "      <td>Queen's Park</td>\n",
              "    </tr>\n",
              "    <tr>\n",
              "      <th>6</th>\n",
              "      <td>M9A</td>\n",
              "      <td>Etobicoke</td>\n",
              "      <td>Islington Avenue</td>\n",
              "    </tr>\n",
              "    <tr>\n",
              "      <th>7</th>\n",
              "      <td>M1B</td>\n",
              "      <td>Scarborough</td>\n",
              "      <td>Rouge, Malvern</td>\n",
              "    </tr>\n",
              "    <tr>\n",
              "      <th>8</th>\n",
              "      <td>M3B</td>\n",
              "      <td>North York</td>\n",
              "      <td>Don Mills North</td>\n",
              "    </tr>\n",
              "    <tr>\n",
              "      <th>9</th>\n",
              "      <td>M4B</td>\n",
              "      <td>East York</td>\n",
              "      <td>Woodbine Gardens, Parkview Hill</td>\n",
              "    </tr>\n",
              "    <tr>\n",
              "      <th>10</th>\n",
              "      <td>M5B</td>\n",
              "      <td>Downtown Toronto</td>\n",
              "      <td>Ryerson, Garden District</td>\n",
              "    </tr>\n",
              "  </tbody>\n",
              "</table>\n",
              "</div>"
            ],
            "text/plain": [
              "   Postcode           Borough                     Neighbourhood\n",
              "1   M3A      North York        Parkwoods                       \n",
              "2   M4A      North York        Victoria Village                \n",
              "3   M5A      Downtown Toronto  Harbourfront, Regent Park       \n",
              "4   M6A      North York        Lawrence Heights, Lawrence Manor\n",
              "5   M7A      Queen's Park      Queen's Park                    \n",
              "6   M9A      Etobicoke         Islington Avenue                \n",
              "7   M1B      Scarborough       Rouge, Malvern                  \n",
              "8   M3B      North York        Don Mills North                 \n",
              "9   M4B      East York         Woodbine Gardens, Parkview Hill \n",
              "10  M5B      Downtown Toronto  Ryerson, Garden District        "
            ]
          },
          "metadata": {
            "tags": []
          },
          "execution_count": 30
        }
      ]
    },
    {
      "cell_type": "code",
      "metadata": {
        "id": "OR2BSpuz_uvj",
        "colab_type": "code",
        "colab": {
          "base_uri": "https://localhost:8080/",
          "height": 34
        },
        "outputId": "af8fc293-1f0c-4add-a964-22e9dcb96424"
      },
      "source": [
        "print(\"The shape of dataset is: \"+str(df.shape))"
      ],
      "execution_count": 31,
      "outputs": [
        {
          "output_type": "stream",
          "text": [
            "The shape of dataset is: (103, 3)\n"
          ],
          "name": "stdout"
        }
      ]
    }
  ]
}